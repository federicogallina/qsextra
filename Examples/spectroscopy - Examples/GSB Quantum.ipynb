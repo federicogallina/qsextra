{
 "cells": [
  {
   "cell_type": "code",
   "execution_count": null,
   "id": "29135fc7-73c6-4d9c-99f1-ecdec7e06652",
   "metadata": {},
   "outputs": [],
   "source": [
    "from qsextra import ExcitonicSystem, ChromophoreSystem\n",
    "from qsextra.tools import spectral_function, unit_converter\n",
    "from qsextra.spectroscopy import FeynmanDiagram, qspectroscopy, clspectroscopy\n",
    "from qsextra.spectroscopy.postprocessing import postprocessing\n",
    "import numpy as np\n",
    "from scipy.linalg import toeplitz\n",
    "import matplotlib.pyplot as plt"
   ]
  },
  {
   "cell_type": "code",
   "execution_count": null,
   "id": "802b40dc-862c-4c47-bfbd-950debee8433",
   "metadata": {},
   "outputs": [],
   "source": [
    "epsilon = [1.55,1.46]    # [eV]\n",
    "J = toeplitz([0., -0.01])    # [eV]\n",
    "N = len(epsilon)"
   ]
  },
  {
   "cell_type": "code",
   "execution_count": null,
   "id": "f94da7a2-0ced-4bb2-abc4-18cdb993d738",
   "metadata": {},
   "outputs": [],
   "source": [
    "esys = ExcitonicSystem(energies = epsilon,\n",
    "                       dipole_moments = [1.] * N,\n",
    "                       couplings = J,\n",
    "                      )\n",
    "\n",
    "eigvals, _ = np.linalg.eig(esys.get_e_Hamiltonian().full())\n",
    "eigvals -= np.min(eigvals)"
   ]
  },
  {
   "cell_type": "code",
   "execution_count": null,
   "id": "fd7ac24f-cfd1-49f6-8688-dd13aaa78125",
   "metadata": {},
   "outputs": [],
   "source": [
    "dt_fs = 0.1    # [fs]\n",
    "t_final = 200.    # [fs]\n",
    "t_list_plot = np.arange(0, t_final + dt_fs, dt_fs)    # [fs]\n",
    "# Now convert to eV^-1\n",
    "t_list = unit_converter(t_list_plot, initial_unit = 'fs', final_unit = 'eV-1')    # [eV-1]\n",
    "dt = t_list[1] - t_list[0]    # [eV-1]\n",
    "# For the quantum execution we reduce the time list in order to save computational time\n",
    "times_plot = np.arange(0, t_final + dt_fs, 100 * dt_fs)    # [fs]\n",
    "times = unit_converter(times_plot, initial_unit = 'fs', final_unit = 'eV-1')    # [eV-1]\n",
    "\n",
    "t2_plot = np.array([0])    # [fs]\n",
    "t2 = unit_converter(t2_plot, initial_unit = 'fs', final_unit = 'eV-1')    # [eV-1]\n",
    "\n",
    "three_t_list = [times, t2, times]\n",
    "\n",
    "Gamma = 59.08 * 10**(-3)\n",
    "\n",
    "spec = FeynmanDiagram('gsb', three_t_list)\n",
    "\n",
    "shots = 4000"
   ]
  },
  {
   "cell_type": "markdown",
   "id": "98f93335-19d1-4d22-9c42-510aa1312b4c",
   "metadata": {},
   "source": [
    "# Exciton System"
   ]
  },
  {
   "cell_type": "code",
   "execution_count": null,
   "id": "8e89f6b0-1581-4f3c-97ed-f5f835f07685",
   "metadata": {},
   "outputs": [],
   "source": [
    "signal_ex_q = qspectroscopy(esys,\n",
    "                            spec,\n",
    "                            shots=shots,\n",
    "                            checkpoint=True,\n",
    "                            coll_rates=Gamma / 4,\n",
    "                            dt=dt,\n",
    "                           )\n",
    "signal_ex = clspectroscopy(esys, spec, rates=Gamma / 4)"
   ]
  },
  {
   "cell_type": "code",
   "execution_count": null,
   "id": "8f9e673e-8198-47c0-955d-4d1869cf58a6",
   "metadata": {},
   "outputs": [],
   "source": [
    "freq, spectrum_ex_q = postprocessing(spec,\n",
    "                                     signal_ex_q,\n",
    "                                     pad_extension = 3,\n",
    "                                     RF_freq = 1.505,\n",
    "                                    )\n",
    "freq, spectrum_ex = postprocessing(spec,\n",
    "                                   signal_ex,\n",
    "                                   pad_extension = 3,\n",
    "                                   RF_freq = 1.505,\n",
    "                                  )"
   ]
  },
  {
   "cell_type": "code",
   "execution_count": null,
   "id": "3ba0310b-0487-40a4-a1e1-75a324bb9aff",
   "metadata": {},
   "outputs": [],
   "source": [
    "plt.imshow(signal_ex_q[:,0,:].real)"
   ]
  },
  {
   "cell_type": "code",
   "execution_count": null,
   "id": "d5df89f4-2212-49b5-bd46-59be952b0514",
   "metadata": {},
   "outputs": [],
   "source": [
    "plt.imshow(signal_ex[:,0,:].real)"
   ]
  },
  {
   "cell_type": "code",
   "execution_count": null,
   "id": "f6112f26-c7c9-4687-afd4-318fe3e0dae8",
   "metadata": {},
   "outputs": [],
   "source": [
    "vmin = spectrum_ex_q.real.min()\n",
    "vmax = spectrum_ex_q.real.max()\n",
    "v = max(np.abs(vmin), vmax)\n",
    "plt.plot(np.diag(freq[0]), np.diag(freq[1]), linestyle='--', alpha = 0.5)\n",
    "plt.contour(freq[0], freq[1], spectrum_ex_q, colors='k', linewidths=0.5, vmin=-v, vmax=v)\n",
    "plt.contourf(freq[0], freq[1], spectrum_ex_q, cmap='RdBu_r', vmin=-v, vmax=v)\n",
    "[plt.axvline(x=eigval.real, linestyle='--', alpha = 0.5) for eigval in eigvals]\n",
    "[plt.axhline(y=eigval.real, linestyle='--', alpha = 0.5) for eigval in eigvals]\n",
    "plt.axis('square')\n",
    "plt.xlim([1.3, 1.7])\n",
    "plt.ylim([1.3, 1.7])"
   ]
  },
  {
   "cell_type": "code",
   "execution_count": null,
   "id": "1cb81d46-260d-4cf0-b34f-9cd9dc7abdcc",
   "metadata": {},
   "outputs": [],
   "source": [
    "vmin = spectrum_ex.real.min()\n",
    "vmax = spectrum_ex.real.max()\n",
    "v = max(np.abs(vmin), vmax)\n",
    "plt.plot(np.diag(freq[0]), np.diag(freq[1]), linestyle='--', alpha = 0.5)\n",
    "plt.contour(freq[0], freq[1], spectrum_ex, colors='k', linewidths=0.5, vmin=-v, vmax=v)\n",
    "plt.contourf(freq[0], freq[1], spectrum_ex, cmap='RdBu_r', vmin=-v, vmax=v)\n",
    "[plt.axvline(x=eigval.real, linestyle='--', alpha = 0.5) for eigval in eigvals]\n",
    "[plt.axhline(y=eigval.real, linestyle='--', alpha = 0.5) for eigval in eigvals]\n",
    "plt.axis('square')\n",
    "plt.xlim([1.3, 1.7])\n",
    "plt.ylim([1.3, 1.7])"
   ]
  },
  {
   "cell_type": "markdown",
   "id": "ba7ea51b-90ad-40e0-99da-e8af952d545a",
   "metadata": {},
   "source": [
    "# Chromophore system"
   ]
  },
  {
   "cell_type": "code",
   "execution_count": null,
   "id": "45d2f2c4-1d8d-482c-b5cb-5405c450e751",
   "metadata": {},
   "outputs": [],
   "source": [
    "sys = ChromophoreSystem(excitonic_system = esys)"
   ]
  },
  {
   "cell_type": "code",
   "execution_count": null,
   "id": "8789a315-e2ce-4463-96f0-cb03eca8df60",
   "metadata": {},
   "outputs": [],
   "source": [
    "W = 1\n",
    "frequencies_pseudomode = [0] * W\n",
    "Gamma_list = [Gamma / W] * W\n",
    "Omega_list = [0.1] * W\n",
    "fr, sf = spectral_function(frequencies_pseudomode, Gamma_list, Omega_list)\n",
    "plt.plot(fr, sf)"
   ]
  },
  {
   "cell_type": "code",
   "execution_count": null,
   "id": "27fbb95c-9ac9-4832-8094-4a6ace7b5fb1",
   "metadata": {},
   "outputs": [],
   "source": [
    "levels_per_pseudomode = 2\n",
    "sys.pseudomodes(frequencies_pseudomode = frequencies_pseudomode,\n",
    "                levels_pseudomode = [levels_per_pseudomode] * len(frequencies_pseudomode),\n",
    "                couplings_ep = np.sqrt(np.array(Gamma_list) * np.array(Omega_list) / 2).tolist(),\n",
    "               )"
   ]
  },
  {
   "cell_type": "code",
   "execution_count": null,
   "id": "52875121-6bc6-49fc-a005-83363223de62",
   "metadata": {},
   "outputs": [],
   "source": [
    "coll_rate = (2 * np.array(Omega_list)).tolist()"
   ]
  },
  {
   "cell_type": "code",
   "execution_count": null,
   "id": "653685be-386f-4229-8135-0f58f1c7f6f0",
   "metadata": {},
   "outputs": [],
   "source": [
    "signal_ch_q = qspectroscopy(sys,\n",
    "                            spec,\n",
    "                            shots=shots,\n",
    "                            checkpoint=True,\n",
    "                            coll_rates=coll_rate,\n",
    "                            dt=dt,\n",
    "                             )\n",
    "signal_ch = clspectroscopy(sys, spec, rates=coll_rate)"
   ]
  },
  {
   "cell_type": "code",
   "execution_count": null,
   "id": "c8cca48f-8fea-48d3-a5bb-d0bc86312ba0",
   "metadata": {},
   "outputs": [],
   "source": [
    "freq, spectrum_ch_q = postprocessing(spec,\n",
    "                                     signal_ch_q,\n",
    "                                     pad_extension = 3,\n",
    "                                     RF_freq = 1.505,\n",
    "                                    )\n",
    "freq, spectrum_ch = postprocessing(spec,\n",
    "                                   signal_ch,\n",
    "                                   pad_extension = 3,\n",
    "                                   RF_freq = 1.505,\n",
    "                                  )"
   ]
  },
  {
   "cell_type": "code",
   "execution_count": null,
   "id": "ba0f35d0-ad6d-4c2e-aeb7-05a02d050e62",
   "metadata": {},
   "outputs": [],
   "source": [
    "plt.imshow(signal_ch_q[:,0,:].real)"
   ]
  },
  {
   "cell_type": "code",
   "execution_count": null,
   "id": "681d1350-6ace-4ef8-8f3b-2bf5fbe7ea35",
   "metadata": {},
   "outputs": [],
   "source": [
    "plt.imshow(signal_ch[:,0,:].real)"
   ]
  },
  {
   "cell_type": "code",
   "execution_count": null,
   "id": "114fc12b-752a-44bd-9697-f5d08cd656b2",
   "metadata": {},
   "outputs": [],
   "source": [
    "vmin = signal_ch_q.real.min()\n",
    "vmax = signal_ch_q.real.max()\n",
    "v = max(np.abs(vmin), vmax)\n",
    "plt.plot(np.diag(freq[0]), np.diag(freq[1]), linestyle='--', alpha = 0.5)\n",
    "plt.contour(freq[0], freq[1], signal_ch_q, colors='k', linewidths=0.5, vmin=-v, vmax=v)\n",
    "plt.contourf(freq[0], freq[1], signal_ch_q, cmap='RdBu_r', vmin=-v, vmax=v)\n",
    "[plt.axvline(x=eigval.real, linestyle='--', alpha = 0.5) for eigval in eigvals]\n",
    "[plt.axhline(y=eigval.real, linestyle='--', alpha = 0.5) for eigval in eigvals]\n",
    "plt.axis('square')\n",
    "plt.xlim([1.3, 1.7])\n",
    "plt.ylim([1.3, 1.7])"
   ]
  },
  {
   "cell_type": "code",
   "execution_count": null,
   "id": "8e379514-ce75-422c-8673-a40a891c5880",
   "metadata": {},
   "outputs": [],
   "source": [
    "vmin = spectrum_ch.real.min()\n",
    "vmax = spectrum_ch.real.max()\n",
    "v = max(np.abs(vmin), vmax)\n",
    "plt.plot(np.diag(freq[0]), np.diag(freq[1]), linestyle='--', alpha = 0.5)\n",
    "plt.contour(freq[0], freq[1], spectrum_ch, colors='k', linewidths=0.5, vmin=-v, vmax=v)\n",
    "plt.contourf(freq[0], freq[1], spectrum_ch, cmap='RdBu_r', vmin=-v, vmax=v)\n",
    "[plt.axvline(x=eigval.real, linestyle='--', alpha = 0.5) for eigval in eigvals]\n",
    "[plt.axhline(y=eigval.real, linestyle='--', alpha = 0.5) for eigval in eigvals]\n",
    "plt.axis('square')\n",
    "plt.xlim([1.3, 1.7])\n",
    "plt.ylim([1.3, 1.7])"
   ]
  },
  {
   "cell_type": "code",
   "execution_count": null,
   "id": "84d62079-464b-403e-b82c-4f13e7bab66c",
   "metadata": {},
   "outputs": [],
   "source": []
  }
 ],
 "metadata": {
  "kernelspec": {
   "display_name": "Python 3 (ipykernel)",
   "language": "python",
   "name": "python3"
  },
  "language_info": {
   "codemirror_mode": {
    "name": "ipython",
    "version": 3
   },
   "file_extension": ".py",
   "mimetype": "text/x-python",
   "name": "python",
   "nbconvert_exporter": "python",
   "pygments_lexer": "ipython3",
   "version": "3.12.5"
  }
 },
 "nbformat": 4,
 "nbformat_minor": 5
}
