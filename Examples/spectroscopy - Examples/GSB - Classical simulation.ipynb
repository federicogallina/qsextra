{
 "cells": [
  {
   "cell_type": "code",
   "execution_count": null,
   "id": "29135fc7-73c6-4d9c-99f1-ecdec7e06652",
   "metadata": {},
   "outputs": [],
   "source": [
    "from qsextra import ExcitonicSystem, ChromophoreSystem\n",
    "from qsextra.tools import spectral_function, unit_converter\n",
    "from qsextra.spectroscopy import FeynmanDiagram, clspectroscopy\n",
    "from qsextra.spectroscopy.postprocessing import postprocessing\n",
    "import numpy as np\n",
    "from scipy.linalg import toeplitz\n",
    "import matplotlib.pyplot as plt"
   ]
  },
  {
   "cell_type": "code",
   "execution_count": null,
   "id": "802b40dc-862c-4c47-bfbd-950debee8433",
   "metadata": {},
   "outputs": [],
   "source": [
    "epsilon = [1.55, 1.46]    # [eV]\n",
    "J = toeplitz([0., -0.01])    # [eV]\n",
    "N = len(epsilon)"
   ]
  },
  {
   "cell_type": "code",
   "execution_count": null,
   "id": "0af36ba6-61be-404b-9ca8-edadd3bb0bd5",
   "metadata": {},
   "outputs": [],
   "source": [
    "esys = ExcitonicSystem(energies = epsilon,\n",
    "                       dipole_moments = [1.] * N,\n",
    "                       couplings = J,\n",
    "                      )\n",
    "\n",
    "eigvals, _ = np.linalg.eig(esys.get_e_Hamiltonian().full())\n",
    "eigvals -= np.min(eigvals)"
   ]
  },
  {
   "cell_type": "code",
   "execution_count": null,
   "id": "f5e3f334-345b-4698-879e-6fad89b45652",
   "metadata": {},
   "outputs": [],
   "source": [
    "dt_fs = 0.1    # [fs]\n",
    "t_final = 200.    # [fs]\n",
    "t_list_plot = np.arange(0, t_final + dt_fs, dt_fs)    # [fs]\n",
    "# Now convert to eV^-1\n",
    "t_list = unit_converter(t_list_plot, initial_unit = 'fs', final_unit = 'eV-1')    # [eV-1]\n",
    "dt = t_list[1] - t_list[0]    # [eV-1]\n",
    "# For the quantum execution we reduce the time list in order to save computational time\n",
    "times_plot = np.arange(0, t_final + dt_fs, 100 * dt_fs)    # [fs]\n",
    "times = unit_converter(times_plot, initial_unit = 'fs', final_unit = 'eV-1')    # [eV-1]\n",
    "\n",
    "t2_plot = np.array([0])    # [fs]\n",
    "t2 = unit_converter(t2_plot, initial_unit = 'fs', final_unit = 'eV-1')    # [eV-1]\n",
    "\n",
    "three_t_list = [times, t2, times]\n",
    "\n",
    "Gamma = 59.08 * 10**(-3)\n",
    "\n",
    "spec = FeynmanDiagram('gsb', three_t_list)"
   ]
  },
  {
   "cell_type": "markdown",
   "id": "98f93335-19d1-4d22-9c42-510aa1312b4c",
   "metadata": {},
   "source": [
    "### Exciton System"
   ]
  },
  {
   "cell_type": "code",
   "execution_count": null,
   "id": "8e89f6b0-1581-4f3c-97ed-f5f835f07685",
   "metadata": {},
   "outputs": [],
   "source": [
    "signal_ex = clspectroscopy(esys, spec, rates=Gamma)"
   ]
  },
  {
   "cell_type": "code",
   "execution_count": null,
   "id": "8f9e673e-8198-47c0-955d-4d1869cf58a6",
   "metadata": {},
   "outputs": [],
   "source": [
    "freq, spectrum_ex = postprocessing(spec,\n",
    "                                signal_ex,\n",
    "                                pad_extension = 3,\n",
    "                                RF_freq = 1.505,\n",
    "                               )"
   ]
  },
  {
   "cell_type": "code",
   "execution_count": null,
   "id": "71eb1642-f521-41b2-bb7a-7d528c60e2cb",
   "metadata": {},
   "outputs": [],
   "source": [
    "plt.imshow(signal_ex[:,0,:].real)"
   ]
  },
  {
   "cell_type": "code",
   "execution_count": null,
   "id": "17403673-7c10-43d1-b094-b4c35ed48dfe",
   "metadata": {},
   "outputs": [],
   "source": [
    "vmin = spectrum_ex.real.min()\n",
    "vmax = spectrum_ex.real.max()\n",
    "v = max(np.abs(vmin), vmax)\n",
    "plt.plot(np.diag(freq[0]), np.diag(freq[1]), linestyle='--', alpha = 0.5)\n",
    "plt.contour(freq[0], freq[1], spectrum_ex, colors='k', linewidths=0.5, vmin=-v, vmax=v)\n",
    "plt.contourf(freq[0], freq[1], spectrum_ex, cmap='RdBu_r', vmin=-v, vmax=v)\n",
    "[plt.axvline(x=eigval.real, linestyle='--', alpha = 0.5) for eigval in eigvals]\n",
    "[plt.axhline(y=eigval.real, linestyle='--', alpha = 0.5) for eigval in eigvals]\n",
    "plt.axis('square')\n",
    "plt.xlim([1.3, 1.7])\n",
    "plt.ylim([1.3, 1.7])"
   ]
  },
  {
   "cell_type": "code",
   "execution_count": null,
   "id": "23f2dbc7-43f3-4d86-84a6-a92d63702df8",
   "metadata": {},
   "outputs": [],
   "source": [
    "vmin = spectrum_ex.real.min()\n",
    "vmax = spectrum_ex.real.max()\n",
    "v = max(np.abs(vmin), vmax)\n",
    "plt.plot(np.diag(freq[0]), np.diag(freq[1]), linestyle='--', alpha = 0.5)\n",
    "plt.contour(freq[0], freq[1], spectrum_ex, colors='k', linewidths=0.5, vmin=-v, vmax=v)\n",
    "plt.contourf(freq[0], freq[1], spectrum_ex, cmap='RdBu_r', vmin=-v, vmax=v)\n",
    "[plt.axvline(x=eigval.real, linestyle='--', alpha = 0.5) for eigval in eigvals]\n",
    "[plt.axhline(y=eigval.real, linestyle='--', alpha = 0.5) for eigval in eigvals]\n",
    "plt.axis('square')\n",
    "plt.xlim([1.3, 1.7])\n",
    "plt.ylim([1.3, 1.7])"
   ]
  },
  {
   "cell_type": "markdown",
   "id": "ba7ea51b-90ad-40e0-99da-e8af952d545a",
   "metadata": {},
   "source": [
    "### Chromophore system"
   ]
  },
  {
   "cell_type": "code",
   "execution_count": null,
   "id": "45d2f2c4-1d8d-482c-b5cb-5405c450e751",
   "metadata": {},
   "outputs": [],
   "source": [
    "sys = ChromophoreSystem(excitonic_system = esys)"
   ]
  },
  {
   "cell_type": "code",
   "execution_count": null,
   "id": "8789a315-e2ce-4463-96f0-cb03eca8df60",
   "metadata": {},
   "outputs": [],
   "source": [
    "W = 1\n",
    "frequencies_pseudomode = [0] * W\n",
    "Gamma_list = [Gamma / W] * W\n",
    "Omega_list = [0.1] * W\n",
    "fr, sf = spectral_function(frequencies_pseudomode, Gamma_list, Omega_list)\n",
    "plt.plot(fr, sf)"
   ]
  },
  {
   "cell_type": "code",
   "execution_count": null,
   "id": "13a11a94-4b8d-4107-ac35-2e479f99ec7b",
   "metadata": {},
   "outputs": [],
   "source": [
    "sys.pseudomodes(frequencies_pseudomode = frequencies_pseudomode,\n",
    "                levels_pseudomode = [2]*len(frequencies_pseudomode),\n",
    "                couplings_ep = np.sqrt(np.array(Gamma_list)*np.array(Omega_list)/2).tolist(),\n",
    "               )\n",
    "coll_rate = (2 * np.array(Omega_list)).tolist()"
   ]
  },
  {
   "cell_type": "code",
   "execution_count": null,
   "id": "653685be-386f-4229-8135-0f58f1c7f6f0",
   "metadata": {},
   "outputs": [],
   "source": [
    "signal_ch = clspectroscopy(sys, spec, rates=coll_rate)"
   ]
  },
  {
   "cell_type": "code",
   "execution_count": null,
   "id": "c8cca48f-8fea-48d3-a5bb-d0bc86312ba0",
   "metadata": {},
   "outputs": [],
   "source": [
    "freq, spectrum_ch = postprocessing(spec,\n",
    "                                signal_ch,\n",
    "                                pad_extension = 3,\n",
    "                                RF_freq = 1.505,\n",
    "                               )"
   ]
  },
  {
   "cell_type": "code",
   "execution_count": null,
   "id": "ba0f35d0-ad6d-4c2e-aeb7-05a02d050e62",
   "metadata": {},
   "outputs": [],
   "source": [
    "plt.imshow(signal_ch[:,0,:].real)"
   ]
  },
  {
   "cell_type": "code",
   "execution_count": null,
   "id": "114fc12b-752a-44bd-9697-f5d08cd656b2",
   "metadata": {},
   "outputs": [],
   "source": [
    "vmin = spectrum_ch.real.min()\n",
    "vmax = spectrum_ch.real.max()\n",
    "v = max(np.abs(vmin), vmax)\n",
    "plt.plot(np.diag(freq[0]), np.diag(freq[1]), linestyle='--', alpha = 0.5)\n",
    "plt.contour(freq[0], freq[1], spectrum_ch, colors='k', linewidths=0.5, vmin=-v, vmax=v)\n",
    "plt.contourf(freq[0], freq[1], spectrum_ch, cmap='RdBu_r', vmin=-v, vmax=v)\n",
    "[plt.axvline(x=eigval.real, linestyle='--', alpha = 0.5) for eigval in eigvals]\n",
    "[plt.axhline(y=eigval.real, linestyle='--', alpha = 0.5) for eigval in eigvals]\n",
    "plt.axis('square')\n",
    "plt.xlim([1.3, 1.7])\n",
    "plt.ylim([1.3, 1.7])"
   ]
  },
  {
   "cell_type": "code",
   "execution_count": null,
   "id": "84d62079-464b-403e-b82c-4f13e7bab66c",
   "metadata": {},
   "outputs": [],
   "source": []
  }
 ],
 "metadata": {
  "kernelspec": {
   "display_name": "Python 3 (ipykernel)",
   "language": "python",
   "name": "python3"
  },
  "language_info": {
   "codemirror_mode": {
    "name": "ipython",
    "version": 3
   },
   "file_extension": ".py",
   "mimetype": "text/x-python",
   "name": "python",
   "nbconvert_exporter": "python",
   "pygments_lexer": "ipython3",
   "version": "3.12.5"
  }
 },
 "nbformat": 4,
 "nbformat_minor": 5
}
