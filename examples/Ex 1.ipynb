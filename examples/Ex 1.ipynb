{
 "cells": [
  {
   "cell_type": "code",
   "execution_count": null,
   "id": "6d3da035",
   "metadata": {},
   "outputs": [],
   "source": [
    "import numpy as np\n",
    "from qsextra import OU"
   ]
  },
  {
   "cell_type": "code",
   "execution_count": null,
   "id": "2381f25a",
   "metadata": {},
   "outputs": [],
   "source": [
    "#Set parameter of the dynamics:\n",
    "dt=0.05 #time step\n",
    "t_max=20. #Maximum time\n",
    "tau=1. #memory time of the environment\n",
    "Gamma=1. #interaction strength with the environment\n",
    "shots=2000 #number of trajectories (i.e., shots to measure the circuits)"
   ]
  },
  {
   "cell_type": "code",
   "execution_count": null,
   "id": "cb68b3a4",
   "metadata": {},
   "outputs": [],
   "source": [
    "pops = OU.evolve(H, t_max, dt, Gamma, tau, shots=shots, method='classical noise', mapping='algorithmic')"
   ]
  },
  {
   "cell_type": "code",
   "execution_count": null,
   "id": "eee8e1a1",
   "metadata": {},
   "outputs": [],
   "source": []
  }
 ],
 "metadata": {
  "kernelspec": {
   "display_name": "Python 3 (ipykernel)",
   "language": "python",
   "name": "python3"
  },
  "language_info": {
   "codemirror_mode": {
    "name": "ipython",
    "version": 3
   },
   "file_extension": ".py",
   "mimetype": "text/x-python",
   "name": "python",
   "nbconvert_exporter": "python",
   "pygments_lexer": "ipython3",
   "version": "3.10.9"
  }
 },
 "nbformat": 4,
 "nbformat_minor": 5
}
